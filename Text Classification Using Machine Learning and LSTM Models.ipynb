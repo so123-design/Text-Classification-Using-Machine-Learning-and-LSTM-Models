{
 "cells": [
  {
   "cell_type": "markdown",
   "metadata": {},
   "source": [
    "\n",
    "---\n",
    "\n",
    "# Text Classification Using Machine Learning and LSTM Models\n",
    "\n",
    "---\n",
    "\n",
    "### **Introduction**\n",
    "This project implements a robust text classification pipeline using both traditional machine learning models and deep learning with Long Short-Term Memory (LSTM) networks. It processes a dataset of newsgroup articles and classifies them into predefined categories. By combining data preprocessing, feature engineering, and advanced model architectures, this project demonstrates versatility in solving text classification problems.\n",
    "\n",
    "---\n",
    "\n",
    "### **Purpose and Objectives**\n",
    "The main goals of this project are:\n",
    "1. To showcase expertise in traditional machine learning and modern deep learning approaches for natural language processing (NLP) tasks.\n",
    "2. To build a comparative framework for evaluating different classifiers based on performance metrics.\n",
    "3. To apply real-world data preprocessing techniques, feature extraction, and model evaluation methods.\n",
    "\n",
    "---\n",
    "\n",
    "### **Key Components and Explanation**\n",
    "\n",
    "#### **1. Dataset**\n",
    "- **Source:** The [20 Newsgroups Dataset](https://scikit-learn.org/0.19/datasets/twenty_newsgroups.html) from Scikit-learn.\n",
    "- **Categories Used:** Articles related to `sci.med`, `comp.graphics`, and `rec.sport.baseball`.\n",
    "- **Subset Used:** Texts with headers, footers, and quotes removed for cleaner input.\n",
    "\n",
    "#### **2. Data Preprocessing**\n",
    "- Texts are cleaned and tokenized using NLTK.\n",
    "- Key cleaning steps:\n",
    "  - Conversion to lowercase.\n",
    "  - Removal of URLs, mentions, hashtags, and emojis.\n",
    "  - Removal of stopwords and punctuation.\n",
    "  - Tokenization to extract meaningful words.\n",
    "- Stopwords are downloaded using NLTK for comprehensive filtering.\n",
    "\n",
    "#### **3. Feature Extraction**\n",
    "- **Machine Learning Approach:** \n",
    "  - TF-IDF (Term Frequency-Inverse Document Frequency) vectorization converts textual data into numerical features with a maximum of 5000 features.\n",
    "- **Deep Learning Approach:** \n",
    "  - Texts are tokenized and padded into sequences for use with the LSTM model.\n",
    "\n",
    "#### **4. Models**\n",
    "##### **Machine Learning Models**\n",
    "1. **Logistic Regression:** A simple and effective linear classifier.\n",
    "2. **Naive Bayes:** A probabilistic classifier well-suited for text data.\n",
    "3. **Support Vector Machine (SVM):** A robust algorithm for high-dimensional feature spaces.\n",
    "4. **Decision Tree:** A non-linear model for interpretability.\n",
    "\n",
    "##### **Deep Learning Model**\n",
    "- **LSTM Network:**\n",
    "  - Embedding layer to convert words into dense vector representations.\n",
    "  - LSTM layer to capture sequential dependencies in text.\n",
    "  - Dense layers with Dropout to prevent overfitting.\n",
    "  - Output layer with softmax activation for multi-class classification.\n",
    "\n",
    "#### **5. Model Evaluation**\n",
    "- Performance metrics include:\n",
    "  - **Accuracy**: Measures the proportion of correctly classified instances.\n",
    "  - **Classification Report**: Includes precision, recall, and F1-score for each class.\n",
    "  - **Confusion Matrix**: Visualizes true vs. predicted labels.\n",
    "- Machine learning models are compared with Logistic Regression selected for detailed analysis.\n",
    "- LSTM results are plotted with accuracy and loss trends during training.\n",
    "\n",
    "---\n",
    "\n",
    "### **How It Works**\n",
    "\n",
    "#### **Machine Learning Workflow**\n",
    "1. Preprocess the dataset using text cleaning and tokenization.\n",
    "2. Extract features using TF-IDF vectorization.\n",
    "3. Train classifiers on the training data.\n",
    "4. Evaluate models on the test data using performance metrics.\n",
    "5. Visualize results with a confusion matrix.\n",
    "\n",
    "#### **Deep Learning Workflow**\n",
    "1. Encode labels as categorical data.\n",
    "2. Tokenize and pad text data for uniform sequence lengths.\n",
    "3. Build and compile an LSTM model with embedding, LSTM, and dense layers.\n",
    "4. Train the model and evaluate on the test set.\n",
    "5. Visualize training performance and confusion matrix.\n",
    "\n",
    "---\n",
    "\n",
    "\n",
    "---\n",
    "\n",
    "### **Applications**\n",
    "This project has a variety of applications, such as:\n",
    "- Categorizing customer support tickets for quick routing.\n",
    "- News article classification for personalized content delivery.\n",
    "- Sentiment analysis for business insights.\n",
    "- Automatic tagging of blog posts or documents.\n",
    "\n",
    "---\n",
    "\n",
    "### **Code Implementation**\n",
    "\n",
    "#### **Machine Learning Code**\n"
   ]
  },
  {
   "cell_type": "code",
   "execution_count": 1,
   "metadata": {
    "execution": {
     "iopub.execute_input": "2024-12-27T21:51:26.051944Z",
     "iopub.status.busy": "2024-12-27T21:51:26.051675Z",
     "iopub.status.idle": "2024-12-27T21:51:29.013745Z",
     "shell.execute_reply": "2024-12-27T21:51:29.012593Z",
     "shell.execute_reply.started": "2024-12-27T21:51:26.051919Z"
    }
   },
   "outputs": [],
   "source": [
    "import numpy as np\n",
    "import pandas as pd\n",
    "import re\n",
    "import string\n",
    "from sklearn.datasets import fetch_20newsgroups\n",
    "from sklearn.model_selection import train_test_split\n",
    "from sklearn.feature_extraction.text import TfidfVectorizer\n",
    "from sklearn.linear_model import LogisticRegression\n",
    "from sklearn.naive_bayes import MultinomialNB\n",
    "from sklearn.svm import SVC\n",
    "from sklearn.tree import DecisionTreeClassifier\n",
    "from sklearn.metrics import classification_report, accuracy_score, confusion_matrix\n",
    "import seaborn as sns\n",
    "import matplotlib.pyplot as plt\n",
    "from nltk.corpus import stopwords\n",
    "from nltk.tokenize import word_tokenize\n",
    "import nltk\n",
    "\n",
    "from sklearn.preprocessing import LabelEncoder\n",
    "from tensorflow.keras.preprocessing.sequence import pad_sequences\n",
    "from tensorflow.keras.models import Sequential\n",
    "from tensorflow.keras.layers import Embedding, LSTM, Dense, Dropout\n",
    "from tensorflow.keras.utils import to_categorical\n"
   ]
  },
  {
   "cell_type": "code",
   "execution_count": 2,
   "metadata": {
    "execution": {
     "iopub.execute_input": "2024-12-27T21:52:28.385498Z",
     "iopub.status.busy": "2024-12-27T21:52:28.385077Z",
     "iopub.status.idle": "2024-12-27T21:52:28.699480Z",
     "shell.execute_reply": "2024-12-27T21:52:28.698447Z",
     "shell.execute_reply.started": "2024-12-27T21:52:28.385450Z"
    }
   },
   "outputs": [
    {
     "name": "stdout",
     "output_type": "stream",
     "text": [
      "[nltk_data] Downloading package punkt to /usr/share/nltk_data...\n",
      "[nltk_data]   Package punkt is already up-to-date!\n",
      "[nltk_data] Downloading package stopwords to /usr/share/nltk_data...\n",
      "[nltk_data]   Package stopwords is already up-to-date!\n"
     ]
    },
    {
     "data": {
      "text/plain": [
       "True"
      ]
     },
     "execution_count": 2,
     "metadata": {},
     "output_type": "execute_result"
    }
   ],
   "source": [
    "nltk.download('punkt')\n",
    "nltk.download('stopwords')\n"
   ]
  },
  {
   "cell_type": "code",
   "execution_count": 3,
   "metadata": {
    "execution": {
     "iopub.execute_input": "2024-12-27T21:52:36.437321Z",
     "iopub.status.busy": "2024-12-27T21:52:36.436998Z",
     "iopub.status.idle": "2024-12-27T21:52:49.162099Z",
     "shell.execute_reply": "2024-12-27T21:52:49.161041Z",
     "shell.execute_reply.started": "2024-12-27T21:52:36.437296Z"
    }
   },
   "outputs": [],
   "source": [
    "# Step 1: Load the Dataset\n",
    "data = fetch_20newsgroups(subset='all', categories=['sci.med', 'comp.graphics', 'rec.sport.baseball'],\n",
    "                          remove=('headers', 'footers', 'quotes'), shuffle=True, random_state=42)\n"
   ]
  },
  {
   "cell_type": "code",
   "execution_count": 4,
   "metadata": {
    "execution": {
     "iopub.execute_input": "2024-12-27T21:53:35.323253Z",
     "iopub.status.busy": "2024-12-27T21:53:35.322782Z",
     "iopub.status.idle": "2024-12-27T21:53:35.332704Z",
     "shell.execute_reply": "2024-12-27T21:53:35.331267Z",
     "shell.execute_reply.started": "2024-12-27T21:53:35.323215Z"
    }
   },
   "outputs": [],
   "source": [
    "# Step 2: Data Preprocessing\n",
    "# Cleaning Functions\n",
    "def clean_text(text):\n",
    "    # Lowercasing all letters\n",
    "    text = text.lower()\n",
    "    # Removing links\n",
    "    text = re.sub(r'http\\S+|www\\.\\S+', '', text)\n",
    "    # Removing mentions and hashtags\n",
    "    text = re.sub(r'@\\w+|#\\w+', '', text)\n",
    "    # Replacing emojis with a placeholder\n",
    "    text = re.sub(r'[\\U00010000-\\U0010ffff]', 'emoji', text)\n",
    "    # Removing consecutive letters\n",
    "    text = re.sub(r'(\\w)\\1+', r'\\1', text)\n",
    "    # Removing punctuations and non-alphanumeric characters\n",
    "    text = re.sub(f'[{re.escape(string.punctuation)}]', ' ', text)\n",
    "    # Tokenization\n",
    "    tokens = word_tokenize(text)\n",
    "    # Removing stopwords\n",
    "    stop_words = set(stopwords.words('english'))\n",
    "    tokens = [word for word in tokens if word not in stop_words]\n",
    "    # Joining tokens back into a string\n",
    "    text = ' '.join(tokens)\n",
    "    return text\n"
   ]
  },
  {
   "cell_type": "code",
   "execution_count": 5,
   "metadata": {
    "execution": {
     "iopub.execute_input": "2024-12-27T21:53:40.457743Z",
     "iopub.status.busy": "2024-12-27T21:53:40.457377Z",
     "iopub.status.idle": "2024-12-27T21:53:43.791659Z",
     "shell.execute_reply": "2024-12-27T21:53:43.790512Z",
     "shell.execute_reply.started": "2024-12-27T21:53:40.457713Z"
    }
   },
   "outputs": [],
   "source": [
    "# Apply cleaning to the dataset\n",
    "texts = [clean_text(doc) for doc in data.data]\n",
    "labels = data.target\n"
   ]
  },
  {
   "cell_type": "code",
   "execution_count": 6,
   "metadata": {
    "execution": {
     "iopub.execute_input": "2024-12-27T21:53:46.363733Z",
     "iopub.status.busy": "2024-12-27T21:53:46.363365Z",
     "iopub.status.idle": "2024-12-27T21:53:46.371507Z",
     "shell.execute_reply": "2024-12-27T21:53:46.370531Z",
     "shell.execute_reply.started": "2024-12-27T21:53:46.363706Z"
    }
   },
   "outputs": [],
   "source": [
    "# Split the dataset into training and testing sets\n",
    "X_train, X_test, y_train, y_test = train_test_split(texts, labels, test_size=0.2, random_state=42)\n"
   ]
  },
  {
   "cell_type": "code",
   "execution_count": 7,
   "metadata": {
    "execution": {
     "iopub.execute_input": "2024-12-27T21:53:51.636046Z",
     "iopub.status.busy": "2024-12-27T21:53:51.635688Z",
     "iopub.status.idle": "2024-12-27T21:53:51.996911Z",
     "shell.execute_reply": "2024-12-27T21:53:51.996006Z",
     "shell.execute_reply.started": "2024-12-27T21:53:51.636017Z"
    }
   },
   "outputs": [],
   "source": [
    "# Step 3: Feature Extraction using TF-IDF\n",
    "vectorizer = TfidfVectorizer(stop_words='english', max_features=5000)\n",
    "X_train_tfidf = vectorizer.fit_transform(X_train)\n",
    "X_test_tfidf = vectorizer.transform(X_test)\n"
   ]
  },
  {
   "cell_type": "code",
   "execution_count": 8,
   "metadata": {
    "execution": {
     "iopub.execute_input": "2024-12-27T21:53:58.238786Z",
     "iopub.status.busy": "2024-12-27T21:53:58.238395Z",
     "iopub.status.idle": "2024-12-27T21:54:00.253573Z",
     "shell.execute_reply": "2024-12-27T21:54:00.251989Z",
     "shell.execute_reply.started": "2024-12-27T21:53:58.238759Z"
    }
   },
   "outputs": [
    {
     "name": "stdout",
     "output_type": "stream",
     "text": [
      "Logistic Regression:\n",
      "\n",
      "                    precision    recall  f1-score   support\n",
      "\n",
      "     comp.graphics       0.94      0.92      0.93       205\n",
      "rec.sport.baseball       0.90      0.94      0.92       187\n",
      "           sci.med       0.92      0.91      0.91       200\n",
      "\n",
      "          accuracy                           0.92       592\n",
      "         macro avg       0.92      0.92      0.92       592\n",
      "      weighted avg       0.92      0.92      0.92       592\n",
      "\n",
      "Accuracy: 0.92\n"
     ]
    }
   ],
   "source": [
    "# Step 4: Train and Evaluate Classifiers\n",
    "# Logistic Regression\n",
    "lr_classifier = LogisticRegression(max_iter=1000, random_state=42)\n",
    "lr_classifier.fit(X_train_tfidf, y_train)\n",
    "lr_pred = lr_classifier.predict(X_test_tfidf)\n",
    "print(\"Logistic Regression:\\n\")\n",
    "print(classification_report(y_test, lr_pred, target_names=data.target_names))\n",
    "print(f\"Accuracy: {accuracy_score(y_test, lr_pred):.2f}\")\n",
    "\n"
   ]
  },
  {
   "cell_type": "code",
   "execution_count": 9,
   "metadata": {
    "execution": {
     "iopub.execute_input": "2024-12-27T21:54:04.824979Z",
     "iopub.status.busy": "2024-12-27T21:54:04.824626Z",
     "iopub.status.idle": "2024-12-27T21:54:04.846154Z",
     "shell.execute_reply": "2024-12-27T21:54:04.844776Z",
     "shell.execute_reply.started": "2024-12-27T21:54:04.824954Z"
    }
   },
   "outputs": [
    {
     "name": "stdout",
     "output_type": "stream",
     "text": [
      "\n",
      "Naive Bayes:\n",
      "\n",
      "                    precision    recall  f1-score   support\n",
      "\n",
      "     comp.graphics       0.93      0.94      0.94       205\n",
      "rec.sport.baseball       0.90      0.95      0.92       187\n",
      "           sci.med       0.95      0.90      0.93       200\n",
      "\n",
      "          accuracy                           0.93       592\n",
      "         macro avg       0.93      0.93      0.93       592\n",
      "      weighted avg       0.93      0.93      0.93       592\n",
      "\n",
      "Accuracy: 0.93\n"
     ]
    }
   ],
   "source": [
    "# Naive Bayes\n",
    "nb_classifier = MultinomialNB()\n",
    "nb_classifier.fit(X_train_tfidf, y_train)\n",
    "nb_pred = nb_classifier.predict(X_test_tfidf)\n",
    "print(\"\\nNaive Bayes:\\n\")\n",
    "print(classification_report(y_test, nb_pred, target_names=data.target_names))\n",
    "print(f\"Accuracy: {accuracy_score(y_test, nb_pred):.2f}\")\n"
   ]
  },
  {
   "cell_type": "code",
   "execution_count": 10,
   "metadata": {
    "execution": {
     "iopub.execute_input": "2024-12-27T21:54:10.227962Z",
     "iopub.status.busy": "2024-12-27T21:54:10.227601Z",
     "iopub.status.idle": "2024-12-27T21:54:13.159073Z",
     "shell.execute_reply": "2024-12-27T21:54:13.157979Z",
     "shell.execute_reply.started": "2024-12-27T21:54:10.227936Z"
    }
   },
   "outputs": [
    {
     "name": "stdout",
     "output_type": "stream",
     "text": [
      "\n",
      "Support Vector Machine:\n",
      "\n",
      "                    precision    recall  f1-score   support\n",
      "\n",
      "     comp.graphics       0.94      0.94      0.94       205\n",
      "rec.sport.baseball       0.90      0.94      0.92       187\n",
      "           sci.med       0.94      0.90      0.92       200\n",
      "\n",
      "          accuracy                           0.93       592\n",
      "         macro avg       0.93      0.93      0.93       592\n",
      "      weighted avg       0.93      0.93      0.93       592\n",
      "\n",
      "Accuracy: 0.93\n"
     ]
    }
   ],
   "source": [
    "# Support Vector Machine\n",
    "svm_classifier = SVC(random_state=42)\n",
    "svm_classifier.fit(X_train_tfidf, y_train)\n",
    "svm_pred = svm_classifier.predict(X_test_tfidf)\n",
    "print(\"\\nSupport Vector Machine:\\n\")\n",
    "print(classification_report(y_test, svm_pred, target_names=data.target_names))\n",
    "print(f\"Accuracy: {accuracy_score(y_test, svm_pred):.2f}\")\n"
   ]
  },
  {
   "cell_type": "code",
   "execution_count": 11,
   "metadata": {
    "execution": {
     "iopub.execute_input": "2024-12-27T21:54:19.238848Z",
     "iopub.status.busy": "2024-12-27T21:54:19.238402Z",
     "iopub.status.idle": "2024-12-27T21:54:19.551033Z",
     "shell.execute_reply": "2024-12-27T21:54:19.550004Z",
     "shell.execute_reply.started": "2024-12-27T21:54:19.238818Z"
    }
   },
   "outputs": [
    {
     "name": "stdout",
     "output_type": "stream",
     "text": [
      "\n",
      "Decision Tree:\n",
      "\n",
      "                    precision    recall  f1-score   support\n",
      "\n",
      "     comp.graphics       0.78      0.75      0.77       205\n",
      "rec.sport.baseball       0.70      0.83      0.76       187\n",
      "           sci.med       0.78      0.68      0.73       200\n",
      "\n",
      "          accuracy                           0.75       592\n",
      "         macro avg       0.75      0.75      0.75       592\n",
      "      weighted avg       0.76      0.75      0.75       592\n",
      "\n",
      "Accuracy: 0.75\n"
     ]
    }
   ],
   "source": [
    "# Decision Tree\n",
    "dt_classifier = DecisionTreeClassifier(random_state=42)\n",
    "dt_classifier.fit(X_train_tfidf, y_train)\n",
    "dt_pred = dt_classifier.predict(X_test_tfidf)\n",
    "print(\"\\nDecision Tree:\\n\")\n",
    "print(classification_report(y_test, dt_pred, target_names=data.target_names))\n",
    "print(f\"Accuracy: {accuracy_score(y_test, dt_pred):.2f}\")\n"
   ]
  },
  {
   "cell_type": "code",
   "execution_count": 12,
   "metadata": {
    "execution": {
     "iopub.execute_input": "2024-12-27T21:54:30.330409Z",
     "iopub.status.busy": "2024-12-27T21:54:30.330046Z",
     "iopub.status.idle": "2024-12-27T21:54:30.601843Z",
     "shell.execute_reply": "2024-12-27T21:54:30.600624Z",
     "shell.execute_reply.started": "2024-12-27T21:54:30.330378Z"
    }
   },
   "outputs": [
    {
     "data": {
      "image/png": "[encoded data removed]",
      "text/plain": [
       "<Figure size 800x600 with 2 Axes>"
      ]
     },
     "metadata": {},
     "output_type": "display_data"
    }
   ],
   "source": [
    "# Step 5: Confusion Matrix for Logistic Regression\n",
    "cm = confusion_matrix(y_test, lr_pred)\n",
    "plt.figure(figsize=(8, 6))\n",
    "sns.heatmap(cm, annot=True, fmt='d', cmap='Blues', xticklabels=data.target_names, yticklabels=data.target_names)\n",
    "plt.title('Confusion Matrix - Logistic Regression')\n",
    "plt.xlabel('Predicted')\n",
    "plt.ylabel('Actual')\n",
    "plt.show()\n"
   ]
  },
  {
   "cell_type": "markdown",
   "metadata": {},
   "source": [
    "#### **Deep Learning Code**\n"
   ]
  },
  {
   "cell_type": "code",
   "execution_count": 21,
   "metadata": {
    "execution": {
     "iopub.execute_input": "2024-12-27T21:57:36.232392Z",
     "iopub.status.busy": "2024-12-27T21:57:36.232057Z",
     "iopub.status.idle": "2024-12-27T21:57:36.238141Z",
     "shell.execute_reply": "2024-12-27T21:57:36.237229Z",
     "shell.execute_reply.started": "2024-12-27T21:57:36.232366Z"
    }
   },
   "outputs": [],
   "source": [
    "# Step 3: Encode Labels\n",
    "label_encoder = LabelEncoder()\n",
    "labels_encoded = label_encoder.fit_transform(labels)\n",
    "labels_categorical = to_categorical(labels_encoded)\n"
   ]
  },
  {
   "cell_type": "code",
   "execution_count": 22,
   "metadata": {
    "execution": {
     "iopub.execute_input": "2024-12-27T21:57:46.807246Z",
     "iopub.status.busy": "2024-12-27T21:57:46.806892Z",
     "iopub.status.idle": "2024-12-27T21:57:47.299278Z",
     "shell.execute_reply": "2024-12-27T21:57:47.298052Z",
     "shell.execute_reply.started": "2024-12-27T21:57:46.807217Z"
    }
   },
   "outputs": [],
   "source": [
    "# Step 4: Tokenization and Padding\n",
    "max_words = 10000  # Maximum number of unique words in the tokenizer\n",
    "max_len = 200      # Maximum length of sequences\n",
    "\n",
    "tokenizer = Tokenizer(num_words=max_words)\n",
    "tokenizer.fit_on_texts(texts)\n",
    "\n",
    "X_sequences = tokenizer.texts_to_sequences(texts)\n",
    "X_padded = pad_sequences(X_sequences, maxlen=max_len, padding='post')\n",
    "\n",
    "# Split data into training and testing sets\n",
    "X_train, X_test, y_train, y_test = train_test_split(X_padded, labels_categorical, test_size=0.2, random_state=42)\n"
   ]
  },
  {
   "cell_type": "code",
   "execution_count": 23,
   "metadata": {
    "execution": {
     "iopub.execute_input": "2024-12-27T21:57:50.647971Z",
     "iopub.status.busy": "2024-12-27T21:57:50.647634Z",
     "iopub.status.idle": "2024-12-27T21:57:50.722196Z",
     "shell.execute_reply": "2024-12-27T21:57:50.721115Z",
     "shell.execute_reply.started": "2024-12-27T21:57:50.647947Z"
    }
   },
   "outputs": [
    {
     "name": "stderr",
     "output_type": "stream",
     "text": [
      "/usr/local/lib/python3.10/dist-packages/keras/src/layers/core/embedding.py:90: UserWarning: Argument `input_length` is deprecated. Just remove it.\n",
      "  warnings.warn(\n"
     ]
    }
   ],
   "source": [
    "# Step 5: Define the LSTM Model\n",
    "embedding_dim = 128\n",
    "\n",
    "model = Sequential([\n",
    "    Embedding(input_dim=max_words, output_dim=embedding_dim, input_length=max_len),\n",
    "    LSTM(128, return_sequences=False),\n",
    "    Dropout(0.5),\n",
    "    Dense(64, activation='relu'),\n",
    "    Dropout(0.5),\n",
    "    Dense(len(label_encoder.classes_), activation='softmax')\n",
    "])\n",
    "\n",
    "model.compile(optimizer='adam', loss='categorical_crossentropy', metrics=['accuracy'])\n",
    "\n"
   ]
  },
  {
   "cell_type": "code",
   "execution_count": 24,
   "metadata": {
    "execution": {
     "iopub.execute_input": "2024-12-27T21:58:01.427251Z",
     "iopub.status.busy": "2024-12-27T21:58:01.426903Z",
     "iopub.status.idle": "2024-12-27T22:00:17.144750Z",
     "shell.execute_reply": "2024-12-27T22:00:17.143552Z",
     "shell.execute_reply.started": "2024-12-27T21:58:01.427224Z"
    }
   },
   "outputs": [
    {
     "name": "stdout",
     "output_type": "stream",
     "text": [
      "Epoch 1/10\n",
      "\u001b[1m60/60\u001b[0m \u001b[32m━━━━━━━━━━━━━━━━━━━━\u001b[0m\u001b[37m\u001b[0m \u001b[1m15s\u001b[0m 209ms/step - accuracy: 0.3494 - loss: 1.0986 - val_accuracy: 0.3615 - val_loss: 1.0954\n",
      "Epoch 2/10\n",
      "\u001b[1m60/60\u001b[0m \u001b[32m━━━━━━━━━━━━━━━━━━━━\u001b[0m\u001b[37m\u001b[0m \u001b[1m13s\u001b[0m 213ms/step - accuracy: 0.3632 - loss: 1.0977 - val_accuracy: 0.2896 - val_loss: 1.1006\n",
      "Epoch 3/10\n",
      "\u001b[1m60/60\u001b[0m \u001b[32m━━━━━━━━━━━━━━━━━━━━\u001b[0m\u001b[37m\u001b[0m \u001b[1m12s\u001b[0m 205ms/step - accuracy: 0.3548 - loss: 1.1010 - val_accuracy: 0.2896 - val_loss: 1.1004\n",
      "Epoch 4/10\n",
      "\u001b[1m60/60\u001b[0m \u001b[32m━━━━━━━━━━━━━━━━━━━━\u001b[0m\u001b[37m\u001b[0m \u001b[1m13s\u001b[0m 213ms/step - accuracy: 0.3630 - loss: 1.0974 - val_accuracy: 0.3890 - val_loss: 1.0957\n",
      "Epoch 5/10\n",
      "\u001b[1m60/60\u001b[0m \u001b[32m━━━━━━━━━━━━━━━━━━━━\u001b[0m\u001b[37m\u001b[0m \u001b[1m12s\u001b[0m 205ms/step - accuracy: 0.4048 - loss: 1.0949 - val_accuracy: 0.3023 - val_loss: 1.0934\n",
      "Epoch 6/10\n",
      "\u001b[1m60/60\u001b[0m \u001b[32m━━━━━━━━━━━━━━━━━━━━\u001b[0m\u001b[37m\u001b[0m \u001b[1m12s\u001b[0m 204ms/step - accuracy: 0.3750 - loss: 1.0762 - val_accuracy: 0.3911 - val_loss: 1.0727\n",
      "Epoch 7/10\n",
      "\u001b[1m60/60\u001b[0m \u001b[32m━━━━━━━━━━━━━━━━━━━━\u001b[0m\u001b[37m\u001b[0m \u001b[1m13s\u001b[0m 212ms/step - accuracy: 0.3688 - loss: 1.0516 - val_accuracy: 0.3235 - val_loss: 1.0422\n",
      "Epoch 8/10\n",
      "\u001b[1m60/60\u001b[0m \u001b[32m━━━━━━━━━━━━━━━━━━━━\u001b[0m\u001b[37m\u001b[0m \u001b[1m20s\u001b[0m 204ms/step - accuracy: 0.4017 - loss: 1.0621 - val_accuracy: 0.3214 - val_loss: 1.0445\n",
      "Epoch 9/10\n",
      "\u001b[1m60/60\u001b[0m \u001b[32m━━━━━━━━━━━━━━━━━━━━\u001b[0m\u001b[37m\u001b[0m \u001b[1m13s\u001b[0m 215ms/step - accuracy: 0.4095 - loss: 1.0238 - val_accuracy: 0.3087 - val_loss: 1.0619\n",
      "Epoch 10/10\n",
      "\u001b[1m60/60\u001b[0m \u001b[32m━━━━━━━━━━━━━━━━━━━━\u001b[0m\u001b[37m\u001b[0m \u001b[1m12s\u001b[0m 205ms/step - accuracy: 0.3733 - loss: 1.0195 - val_accuracy: 0.3171 - val_loss: 1.0477\n"
     ]
    }
   ],
   "source": [
    "# Step 6: Train the Model\n",
    "history = model.fit(X_train, y_train, epochs=10, batch_size=32, validation_split=0.2, verbose=1)\n"
   ]
  },
  {
   "cell_type": "code",
   "execution_count": 26,
   "metadata": {
    "execution": {
     "iopub.execute_input": "2024-12-27T22:02:42.073094Z",
     "iopub.status.busy": "2024-12-27T22:02:42.072737Z",
     "iopub.status.idle": "2024-12-27T22:02:43.504683Z",
     "shell.execute_reply": "2024-12-27T22:02:43.503263Z",
     "shell.execute_reply.started": "2024-12-27T22:02:42.073065Z"
    }
   },
   "outputs": [
    {
     "name": "stdout",
     "output_type": "stream",
     "text": [
      "Test Accuracy: 0.36\n"
     ]
    }
   ],
   "source": [
    "# Step 7: Evaluate the Model\n",
    "loss, accuracy = model.evaluate(X_test, y_test, verbose=0)\n",
    "print(f\"Test Accuracy: {accuracy:.2f}\")\n"
   ]
  },
  {
   "cell_type": "code",
   "execution_count": 27,
   "metadata": {
    "execution": {
     "iopub.execute_input": "2024-12-27T22:02:46.800211Z",
     "iopub.status.busy": "2024-12-27T22:02:46.799823Z",
     "iopub.status.idle": "2024-12-27T22:02:48.590925Z",
     "shell.execute_reply": "2024-12-27T22:02:48.590017Z",
     "shell.execute_reply.started": "2024-12-27T22:02:46.800179Z"
    }
   },
   "outputs": [
    {
     "name": "stdout",
     "output_type": "stream",
     "text": [
      "\u001b[1m19/19\u001b[0m \u001b[32m━━━━━━━━━━━━━━━━━━━━\u001b[0m\u001b[37m\u001b[0m \u001b[1m2s\u001b[0m 82ms/step\n"
     ]
    }
   ],
   "source": [
    "# Step 8: Make Predictions\n",
    "predictions = model.predict(X_test)\n",
    "predicted_classes = np.argmax(predictions, axis=1)\n",
    "true_classes = np.argmax(y_test, axis=1)\n"
   ]
  },
  {
   "cell_type": "code",
   "execution_count": 29,
   "metadata": {
    "execution": {
     "iopub.execute_input": "2024-12-27T22:05:14.852269Z",
     "iopub.status.busy": "2024-12-27T22:05:14.851877Z",
     "iopub.status.idle": "2024-12-27T22:05:15.156327Z",
     "shell.execute_reply": "2024-12-27T22:05:15.155202Z",
     "shell.execute_reply.started": "2024-12-27T22:05:14.852237Z"
    }
   },
   "outputs": [
    {
     "data": {
      "image/png": "[encoded data removed]",
      "text/plain": [
       "<Figure size 800x600 with 2 Axes>"
      ]
     },
     "metadata": {},
     "output_type": "display_data"
    },
    {
     "name": "stdout",
     "output_type": "stream",
     "text": [
      "\n",
      "Classification Report:\n",
      "\n",
      "              precision    recall  f1-score   support\n",
      "\n",
      "           0       0.43      0.04      0.08       205\n",
      "           1       1.00      0.07      0.14       187\n",
      "           2       0.34      0.94      0.50       200\n",
      "\n",
      "    accuracy                           0.36       592\n",
      "   macro avg       0.59      0.35      0.24       592\n",
      "weighted avg       0.58      0.36      0.24       592\n",
      "\n"
     ]
    }
   ],
   "source": [
    "from sklearn.metrics import confusion_matrix, classification_report\n",
    "import seaborn as sns\n",
    "import matplotlib.pyplot as plt\n",
    "\n",
    "# Ensure classes are converted to strings if they are numeric\n",
    "class_labels = [str(label) for label in label_encoder.classes_]\n",
    "\n",
    "# Compute confusion matrix\n",
    "cm = confusion_matrix(true_classes, predicted_classes)\n",
    "\n",
    "# Plot confusion matrix\n",
    "plt.figure(figsize=(8, 6))\n",
    "sns.heatmap(cm, annot=True, fmt='d', cmap='Blues', xticklabels=class_labels, yticklabels=class_labels)\n",
    "plt.title('Confusion Matrix - LSTM')\n",
    "plt.xlabel('Predicted')\n",
    "plt.ylabel('Actual')\n",
    "plt.show()\n",
    "\n",
    "# Print classification report\n",
    "print(\"\\nClassification Report:\\n\")\n",
    "print(classification_report(true_classes, predicted_classes, target_names=class_labels))\n"
   ]
  },
  {
   "cell_type": "markdown",
   "metadata": {},
   "source": [
    "---\n",
    "\n",
    "### **Future Enhancements**\n",
    "1. **Hybrid Models:** Combine machine learning and deep learning models for improved performance.\n",
    "2. **Dataset Expansion:** Incorporate more categories for a broader classification scope.\n",
    "3. **Interactive Interface:** Develop a web or desktop application for real-time text classification.\n",
    "4. **Hyperparameter Tuning:** Experiment with model architectures, embedding dimensions, and other hyperparameters to optimize accuracy.\n",
    "\n",
    "---\n",
    "\n",
    "### **Conclusion**\n",
    "This project effectively demonstrates expertise in implementing both traditional and modern approaches to text classification. It showcases proficiency in data preprocessing, model training, evaluation, and visualization. The comparison between machine learning and deep learning models provides valuable insights into their relative strengths and use cases.\n",
    "\n",
    "---\n"
   ]
  },
  {
   "cell_type": "code",
   "execution_count": null,
   "metadata": {},
   "outputs": [],
   "source": []
  }
 ],
 "metadata": {
  "kaggle": {
   "accelerator": "none",
   "dataSources": [],
   "dockerImageVersionId": 30822,
   "isGpuEnabled": false,
   "isInternetEnabled": true,
   "language": "python",
   "sourceType": "notebook"
  },
  "kernelspec": {
   "display_name": "Python 3 (ipykernel)",
   "language": "python",
   "name": "python3"
  },
  "language_info": {
   "codemirror_mode": {
    "name": "ipython",
    "version": 3
   },
   "file_extension": ".py",
   "mimetype": "text/x-python",
   "name": "python",
   "nbconvert_exporter": "python",
   "pygments_lexer": "ipython3",
   "version": "3.10.9"
  }
 },
 "nbformat": 4,
 "nbformat_minor": 4
}
